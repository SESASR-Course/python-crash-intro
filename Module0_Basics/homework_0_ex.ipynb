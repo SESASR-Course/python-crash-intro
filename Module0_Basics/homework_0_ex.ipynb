{
 "cells": [
  {
   "cell_type": "markdown",
   "metadata": {},
   "source": [
    "# Exercise 1.1"
   ]
  },
  {
   "cell_type": "markdown",
   "metadata": {},
   "source": [
    "Write a Python code to iterate the first 10 numbers, and in each iteration, print the sum of the current and previous number."
   ]
  },
  {
   "cell_type": "markdown",
   "metadata": {},
   "source": [
    "Expected output: Printing current and previous number sum in a range(10)\n",
    "- Current Number 0 Previous Number  0  Sum:  0\n",
    "- Current Number 1 Previous Number  0  Sum:  1\n",
    "- Current Number 2 Previous Number  1  Sum:  3\n",
    "- Current Number 3 Previous Number  2  Sum:  5\n",
    "- Current Number 4 Previous Number  3  Sum:  7\n",
    "- Current Number 5 Previous Number  4  Sum:  9\n",
    "- Current Number 6 Previous Number  5  Sum:  11\n",
    "- Current Number 7 Previous Number  6  Sum:  13\n",
    "- Current Number 8 Previous Number  7  Sum:  15\n",
    "- Current Number 9 Previous Number  8  Sum:  17"
   ]
  },
  {
   "cell_type": "code",
   "execution_count": 2,
   "metadata": {},
   "outputs": [
    {
     "name": "stdout",
     "output_type": "stream",
     "text": [
      "Current number 0 Previous Number 0 Sum 0\n",
      "Current number 1 Previous Number 0 Sum 1\n",
      "Current number 2 Previous Number 1 Sum 3\n",
      "Current number 3 Previous Number 2 Sum 5\n",
      "Current number 4 Previous Number 3 Sum 7\n",
      "Current number 5 Previous Number 4 Sum 9\n",
      "Current number 6 Previous Number 5 Sum 11\n",
      "Current number 7 Previous Number 6 Sum 13\n",
      "Current number 8 Previous Number 7 Sum 15\n",
      "Current number 9 Previous Number 8 Sum 17\n"
     ]
    }
   ],
   "source": [
    "prev_num = 0\n",
    "for num in range(10):\n",
    "    print(f'Current number {num} Previous Number {prev_num} Sum {num + prev_num}')\n",
    "    prev_num = num"
   ]
  },
  {
   "cell_type": "markdown",
   "metadata": {},
   "source": [
    "# Exercise 1.2"
   ]
  },
  {
   "cell_type": "markdown",
   "metadata": {},
   "source": [
    "Write a Python code to display every character of a string present at its even indexes."
   ]
  },
  {
   "cell_type": "code",
   "execution_count": 3,
   "metadata": {},
   "outputs": [
    {
     "name": "stdout",
     "output_type": "stream",
     "text": [
      "H\n",
      "s\n",
      "y\n",
      "o\n",
      "e\n"
     ]
    }
   ],
   "source": [
    "str1_2 = \"HuskyRover\"\n",
    "\n",
    "for i, char in enumerate(str1_2):\n",
    "    if i % 2 == 0:\n",
    "        print(char)"
   ]
  },
  {
   "cell_type": "markdown",
   "metadata": {},
   "source": [
    "# Exercise 1.3"
   ]
  },
  {
   "cell_type": "markdown",
   "metadata": {},
   "source": [
    "Write a Python code to remove characters from a string from 0 to n and return a new string.\n",
    "\n",
    "For Example:\n",
    "\n",
    "solution(\"PYnative\", 4) so output must be **tive**. \n",
    "Here, you need to remove the first four characters from a string.\n",
    "\n",
    "solution(\"PYnative\", 2) so output must be **native**. \n",
    "Here, you need to remove the first two characters from a string.\n",
    "Note: n must be less than the length of the string."
   ]
  },
  {
   "cell_type": "code",
   "execution_count": 4,
   "metadata": {},
   "outputs": [
    {
     "name": "stdout",
     "output_type": "stream",
     "text": [
      "tive\n",
      "native\n"
     ]
    }
   ],
   "source": [
    "def solution(input_str, n_char):\n",
    "    return input_str[n_char:]\n",
    "\n",
    "print(solution(\"PYnative\", 4))\n",
    "print(solution(\"PYnative\", 2))"
   ]
  },
  {
   "cell_type": "markdown",
   "metadata": {},
   "source": [
    "# Exercise 2"
   ]
  },
  {
   "cell_type": "markdown",
   "metadata": {},
   "source": [
    "Given two lists of numbers, write a Python code to create a new list such that the latest list should contain odd numbers from the first list and even numbers from the second list."
   ]
  },
  {
   "cell_type": "code",
   "execution_count": 5,
   "metadata": {},
   "outputs": [
    {
     "name": "stdout",
     "output_type": "stream",
     "text": [
      "[25, 35, 40, 60, 90]\n"
     ]
    }
   ],
   "source": [
    "list1 = [10, 20, 25, 30, 35]\n",
    "list2 = [40, 45, 60, 75, 90]\n",
    "\n",
    "# Expected result list: [25, 35, 40, 60, 90]\n",
    "\n",
    "new_list = []\n",
    "for num in list1:\n",
    "    if num % 2 != 0:\n",
    "        new_list.append(num)\n",
    "\n",
    "for num in list2:\n",
    "    if num % 2 == 0:\n",
    "        new_list.append(num)\n",
    "\n",
    "print(new_list)"
   ]
  },
  {
   "cell_type": "markdown",
   "metadata": {},
   "source": [
    "# Exercise 3"
   ]
  },
  {
   "cell_type": "markdown",
   "metadata": {},
   "source": [
    "Write a program to count occurrences of all characters within a string. The outcome should be contained in a dictionary."
   ]
  },
  {
   "cell_type": "code",
   "execution_count": 7,
   "metadata": {},
   "outputs": [
    {
     "name": "stdout",
     "output_type": "stream",
     "text": [
      "{'A': 1, 'p': 2, 'l': 1, 'e': 1}\n"
     ]
    }
   ],
   "source": [
    "str1 = \"Apple\"\n",
    "\n",
    "char_count = {}\n",
    "for char in str1:\n",
    "    count = char_count.get(char, None)\n",
    "\n",
    "    if count is None:\n",
    "        char_count[char] = 1\n",
    "    else:\n",
    "        char_count[char] += 1\n",
    "\n",
    "print(char_count)"
   ]
  },
  {
   "cell_type": "markdown",
   "metadata": {},
   "source": [
    "Expected output:\n",
    "{'A': 1, 'p': 2, 'l': 1, 'e': 1}"
   ]
  },
  {
   "cell_type": "markdown",
   "metadata": {},
   "source": [
    "# Exercise 4"
   ]
  },
  {
   "cell_type": "markdown",
   "metadata": {},
   "source": [
    "Print all prime numbers within a range.\n",
    "\n",
    "Note: A Prime Number is a number that cannot be made by multiplying other whole numbers. A prime number is a natural number greater than 1 that is not a product of two smaller natural numbers.\n",
    "\n",
    "Examples:\n",
    "\n",
    "6 is not a prime number because it can be made by 2×3 = 6\n",
    "\n",
    "37 is a prime number because no other whole numbers multiply to make it."
   ]
  },
  {
   "cell_type": "code",
   "execution_count": 17,
   "metadata": {},
   "outputs": [
    {
     "name": "stdout",
     "output_type": "stream",
     "text": [
      "29\n",
      "31\n",
      "37\n",
      "41\n",
      "43\n",
      "47\n"
     ]
    }
   ],
   "source": [
    "import math\n",
    "# range\n",
    "start = 25\n",
    "end = 50\n",
    "\n",
    "for num in range(start, end + 1):\n",
    "    prime = True\n",
    "    for i in range(2, round(math.sqrt(num)) + 1):\n",
    "        if num % i == 0:\n",
    "            prime = False\n",
    "            break\n",
    "    \n",
    "    print(num) if prime else \"\""
   ]
  },
  {
   "cell_type": "markdown",
   "metadata": {},
   "source": [
    "# Exercise 5"
   ]
  },
  {
   "cell_type": "markdown",
   "metadata": {},
   "source": [
    "Write a Python program to use for loop to find the factorial of a given number.\n",
    "\n",
    "The factorial (symbol: !) means multiplying all numbers from the chosen number down to 1.\n",
    "\n",
    "For example, a factorial of 5! is 5 × 4 × 3 × 2 × 1 = 120\n",
    "\n",
    "CHECK SPECIAL CASES: negative numbers and 0!"
   ]
  },
  {
   "cell_type": "code",
   "execution_count": 18,
   "metadata": {},
   "outputs": [],
   "source": [
    "def factorial (n: int):\n",
    "    if n < 0:\n",
    "        raise ValueError\n",
    "    if n == 0:\n",
    "        return 1\n",
    "    \n",
    "    return n * factorial(n-1)"
   ]
  },
  {
   "cell_type": "code",
   "execution_count": 31,
   "metadata": {},
   "outputs": [
    {
     "data": {
      "text/plain": [
       "(120, 1, 1)"
      ]
     },
     "execution_count": 31,
     "metadata": {},
     "output_type": "execute_result"
    }
   ],
   "source": [
    "factorial(5), factorial(0), factorial(1)"
   ]
  },
  {
   "cell_type": "code",
   "execution_count": 32,
   "metadata": {},
   "outputs": [
    {
     "ename": "ValueError",
     "evalue": "",
     "output_type": "error",
     "traceback": [
      "\u001b[0;31m---------------------------------------------------------------------------\u001b[0m",
      "\u001b[0;31mValueError\u001b[0m                                Traceback (most recent call last)",
      "Cell \u001b[0;32mIn[32], line 1\u001b[0m\n\u001b[0;32m----> 1\u001b[0m \u001b[43mfactorial\u001b[49m\u001b[43m(\u001b[49m\u001b[38;5;241;43m-\u001b[39;49m\u001b[38;5;241;43m1\u001b[39;49m\u001b[43m)\u001b[49m\n",
      "Cell \u001b[0;32mIn[18], line 3\u001b[0m, in \u001b[0;36mfactorial\u001b[0;34m(n)\u001b[0m\n\u001b[1;32m      1\u001b[0m \u001b[38;5;28;01mdef\u001b[39;00m \u001b[38;5;21mfactorial\u001b[39m (n: \u001b[38;5;28mint\u001b[39m):\n\u001b[1;32m      2\u001b[0m     \u001b[38;5;28;01mif\u001b[39;00m n \u001b[38;5;241m<\u001b[39m \u001b[38;5;241m0\u001b[39m:\n\u001b[0;32m----> 3\u001b[0m         \u001b[38;5;28;01mraise\u001b[39;00m \u001b[38;5;167;01mValueError\u001b[39;00m\n\u001b[1;32m      4\u001b[0m     \u001b[38;5;28;01mif\u001b[39;00m n \u001b[38;5;241m==\u001b[39m \u001b[38;5;241m0\u001b[39m:\n\u001b[1;32m      5\u001b[0m         \u001b[38;5;28;01mreturn\u001b[39;00m \u001b[38;5;241m1\u001b[39m\n",
      "\u001b[0;31mValueError\u001b[0m: "
     ]
    }
   ],
   "source": [
    "factorial(-1)"
   ]
  },
  {
   "cell_type": "code",
   "execution_count": null,
   "metadata": {},
   "outputs": [],
   "source": []
  }
 ],
 "metadata": {
  "kernelspec": {
   "display_name": "Python 3",
   "language": "python",
   "name": "python3"
  },
  "language_info": {
   "codemirror_mode": {
    "name": "ipython",
    "version": 3
   },
   "file_extension": ".py",
   "mimetype": "text/x-python",
   "name": "python",
   "nbconvert_exporter": "python",
   "pygments_lexer": "ipython3",
   "version": "3.10.12"
  }
 },
 "nbformat": 4,
 "nbformat_minor": 2
}
