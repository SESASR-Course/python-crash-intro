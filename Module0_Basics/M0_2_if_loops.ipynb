{
 "cells": [
  {
   "cell_type": "markdown",
   "metadata": {},
   "source": [
    "# Common Python operators"
   ]
  },
  {
   "cell_type": "code",
   "execution_count": null,
   "metadata": {},
   "outputs": [
    {
     "name": "stdout",
     "output_type": "stream",
     "text": [
      "23\n",
      "17\n",
      "60\n",
      "6.666666666666667\n",
      "6\n",
      "2\n",
      "8000\n"
     ]
    }
   ],
   "source": [
    "a = 20\n",
    "b = 3\n",
    "\n",
    "print(a+b)\n",
    "print(a-b)\n",
    "print(a*b)\n",
    "print(a/b)\n",
    "print(a//b) # floor division\n",
    "print(a % b) # modulus\n",
    "print(a**b) # exponential"
   ]
  },
  {
   "cell_type": "markdown",
   "metadata": {},
   "source": [
    "Assigment operators"
   ]
  },
  {
   "cell_type": "code",
   "execution_count": 1,
   "metadata": {},
   "outputs": [
    {
     "name": "stdout",
     "output_type": "stream",
     "text": [
      "10\n",
      "7\n",
      "21\n"
     ]
    }
   ],
   "source": [
    "x = 7\n",
    "x += 3 # same as x = x + 3\n",
    "print(x)\n",
    "x -= 3 # same as x = x - 3\n",
    "print(x)\n",
    "x *= 3 # same as x = x * 3\n",
    "print(x)"
   ]
  },
  {
   "cell_type": "markdown",
   "metadata": {},
   "source": [
    "# If ... Else statement"
   ]
  },
  {
   "cell_type": "code",
   "execution_count": null,
   "metadata": {},
   "outputs": [
    {
     "name": "stdout",
     "output_type": "stream",
     "text": [
      "b is not greater than a\n"
     ]
    }
   ],
   "source": [
    "# Example 0 \n",
    "\n",
    "a = 200\n",
    "b = 33\n",
    "if b > a:\n",
    "  print(\"b is greater than a\")\n",
    "else:\n",
    "  print(\"b is not greater than a\")"
   ]
  },
  {
   "cell_type": "code",
   "execution_count": null,
   "metadata": {},
   "outputs": [
    {
     "name": "stdout",
     "output_type": "stream",
     "text": [
      "1.5\n"
     ]
    }
   ],
   "source": [
    "# Example 1\n",
    "\n",
    "a = 2.5\n",
    "b = 1\n",
    "\n",
    "if a == b and b != 0.0:\n",
    "    print(a)\n",
    "elif a < b or a == 5:\n",
    "    print(a+b)\n",
    "elif a > b and b > 0.0:\n",
    "    print(a-b)\n",
    "else:\n",
    "    pass\n"
   ]
  },
  {
   "cell_type": "code",
   "execution_count": null,
   "metadata": {},
   "outputs": [
    {
     "name": "stdout",
     "output_type": "stream",
     "text": [
      "Above ten,\n",
      "and also above 20!\n"
     ]
    }
   ],
   "source": [
    "# Example 2\n",
    "x = 41\n",
    "\n",
    "if x > 10:\n",
    "  print(\"Above ten,\")\n",
    "  if x > 20:\n",
    "    print(\"and also above 20!\")\n",
    "  else:\n",
    "    print(\"but not above 20.\")"
   ]
  },
  {
   "cell_type": "markdown",
   "metadata": {},
   "source": [
    "# Python Loops"
   ]
  },
  {
   "cell_type": "markdown",
   "metadata": {},
   "source": [
    "**WHILE**"
   ]
  },
  {
   "cell_type": "code",
   "execution_count": 1,
   "metadata": {},
   "outputs": [
    {
     "name": "stdout",
     "output_type": "stream",
     "text": [
      "1\n",
      "2\n",
      "3\n"
     ]
    }
   ],
   "source": [
    "i = 1\n",
    "while i < 6:\n",
    "  print(i)\n",
    "  if i == 3:\n",
    "    break\n",
    "  i += 1"
   ]
  },
  {
   "cell_type": "markdown",
   "metadata": {},
   "source": [
    "**FOR**\n"
   ]
  },
  {
   "cell_type": "code",
   "execution_count": null,
   "metadata": {},
   "outputs": [
    {
     "name": "stdout",
     "output_type": "stream",
     "text": [
      "banana\n",
      "cherry\n"
     ]
    }
   ],
   "source": [
    "fruits = [\"apple\", \"banana\", \"cherry\"]\n",
    "for x in fruits:\n",
    "\tif x == \"apple\":\n",
    "\t\tcontinue\n",
    "\tprint(x)"
   ]
  },
  {
   "cell_type": "markdown",
   "metadata": {},
   "source": [
    "The **range()** function returns a sequence of numbers, starting from 0 by default, and increments by 1 (by default), and ends at a specified number."
   ]
  },
  {
   "cell_type": "code",
   "execution_count": null,
   "metadata": {},
   "outputs": [
    {
     "name": "stdout",
     "output_type": "stream",
     "text": [
      "0\n",
      "1\n",
      "2\n",
      "3\n",
      "4\n",
      "5\n"
     ]
    }
   ],
   "source": [
    "for x in range(6): \n",
    "  print(x)"
   ]
  },
  {
   "cell_type": "code",
   "execution_count": null,
   "metadata": {},
   "outputs": [
    {
     "name": "stdout",
     "output_type": "stream",
     "text": [
      "2\n",
      "7\n",
      "12\n",
      "17\n",
      "22\n",
      "27\n",
      "32\n"
     ]
    }
   ],
   "source": [
    "for x in range(2, 35, 5): # range values from 2 to 35 (but not including 35) with increment of 5\n",
    "  print(x) "
   ]
  },
  {
   "cell_type": "markdown",
   "metadata": {},
   "source": [
    "# Iterable and Loops"
   ]
  },
  {
   "cell_type": "markdown",
   "metadata": {},
   "source": [
    "**Enumerate()** is used with a list called l1. It first prints tuples of index and element pairs. Then it changes the starting index while printing them together. Finally, it prints the index and element separately, each on its own line."
   ]
  },
  {
   "cell_type": "code",
   "execution_count": 2,
   "metadata": {},
   "outputs": [
    {
     "name": "stdout",
     "output_type": "stream",
     "text": [
      "(0, 'eat')\n",
      "(1, 'sleep')\n",
      "(2, 'repeat')\n",
      "100 eat\n",
      "101 sleep\n",
      "102 repeat\n",
      "0\n",
      "eat\n",
      "1\n",
      "sleep\n",
      "2\n",
      "repeat\n"
     ]
    }
   ],
   "source": [
    "l1 = [\"eat\", \"sleep\", \"repeat\"]\n",
    "\n",
    "# printing the tuples in object directly\n",
    "for ele in enumerate(l1):\n",
    "    print (ele)\n",
    "\n",
    "# changing starting counter index and printing separately\n",
    "for count, ele in enumerate(l1, 100):\n",
    "    print (count, ele)\n",
    "\n",
    "# getting desired output from tuple\n",
    "for count, ele in enumerate(l1):\n",
    "    print(count)\n",
    "    print(ele)"
   ]
  },
  {
   "cell_type": "markdown",
   "metadata": {},
   "source": [
    "Loop over two arrays in parallel with the **zip()** function"
   ]
  },
  {
   "cell_type": "markdown",
   "metadata": {},
   "source": [
    "The zip() function returns a zip object, which is an iterator of tuples where the first item in each passed iterator is paired together, and then the second item in each passed iterator are paired together etc.\n",
    "\n",
    "If the passed iterables have different lengths, the iterable with the least items decides the length of the new iterator."
   ]
  },
  {
   "cell_type": "code",
   "execution_count": 3,
   "metadata": {},
   "outputs": [
    {
     "name": "stdout",
     "output_type": "stream",
     "text": [
      "('John', 'Jenny')\n",
      "('Charles', 'Christy')\n",
      "('Mike', 'Monica')\n"
     ]
    }
   ],
   "source": [
    "a = (\"John\", \"Charles\", \"Mike\")\n",
    "b = (\"Jenny\", \"Christy\", \"Monica\")\n",
    "\n",
    "x = zip(a, b)\n",
    "\n",
    "for i in x:\n",
    "    print(i)"
   ]
  },
  {
   "cell_type": "code",
   "execution_count": 11,
   "metadata": {},
   "outputs": [
    {
     "name": "stdout",
     "output_type": "stream",
     "text": [
      "1 2\n",
      "3 4\n",
      "5 6\n",
      "7 8\n",
      "9 10\n",
      "\n",
      "\n",
      "2\n",
      "25\n",
      "61\n",
      "65\n",
      "34\n"
     ]
    }
   ],
   "source": [
    "l1 = [1, 3, 5, 7, 9]\n",
    "l2 = [2, 4, 6, 8, 10]\n",
    "\n",
    "for x,y in zip(l1,l2):\n",
    "    print(x, y)\n",
    "\n",
    "print(\"\\n\")\n",
    "\n",
    "l1 = [1, 25, 25, 65, 34, 2, 4, 63]\n",
    "l2 = [2, 4, 61, 8, 10]\n",
    "\n",
    "for x,y in zip(l1,l2):\n",
    "    z = max(x,y)\n",
    "    print(z)"
   ]
  }
 ],
 "metadata": {
  "kernelspec": {
   "display_name": "Python 3",
   "language": "python",
   "name": "python3"
  },
  "language_info": {
   "codemirror_mode": {
    "name": "ipython",
    "version": 3
   },
   "file_extension": ".py",
   "mimetype": "text/x-python",
   "name": "python",
   "nbconvert_exporter": "python",
   "pygments_lexer": "ipython3",
   "version": "3.10.12"
  }
 },
 "nbformat": 4,
 "nbformat_minor": 2
}
