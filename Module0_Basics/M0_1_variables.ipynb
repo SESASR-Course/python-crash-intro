{
 "cells": [
  {
   "cell_type": "markdown",
   "metadata": {},
   "source": [
    "# Python Variables\n",
    "Variables are containers for storing data values.\n",
    "\n",
    "Python has no command for declaring a variable.\n",
    "\n",
    "A variable is created the moment you first assign a value to it."
   ]
  },
  {
   "cell_type": "code",
   "execution_count": 2,
   "metadata": {},
   "outputs": [
    {
     "name": "stdout",
     "output_type": "stream",
     "text": [
      "5\n",
      "Thiago\n"
     ]
    }
   ],
   "source": [
    "x = 5 # int\n",
    "y = \"Thiago\" # string\n",
    "print(x)\n",
    "print(y)"
   ]
  },
  {
   "cell_type": "markdown",
   "metadata": {},
   "source": [
    "Variables do not need to be declared with any particular type, and can even change type after they have been set."
   ]
  },
  {
   "cell_type": "code",
   "execution_count": null,
   "metadata": {},
   "outputs": [],
   "source": [
    "x = 4       # x is of type int\n",
    "x = \"Jackal\" # x is now of type str, same as 'Jackal'\n",
    "print(x)"
   ]
  },
  {
   "cell_type": "markdown",
   "metadata": {},
   "source": [
    "Multiple assignment"
   ]
  },
  {
   "cell_type": "code",
   "execution_count": 7,
   "metadata": {},
   "outputs": [
    {
     "name": "stdout",
     "output_type": "stream",
     "text": [
      "Orange\n",
      "Banana\n",
      "Cherry\n",
      "Orange\n",
      "Orange\n",
      "Orange\n"
     ]
    }
   ],
   "source": [
    "x, y, z = \"Orange\", \"Banana\", \"Cherry\" # Multiple assignment of different variables w/ DIFFERENT values\n",
    "print(x)\n",
    "print(y)\n",
    "print(z)\n",
    "\n",
    "x = y = z = \"Orange\" # Multiple assignment of different variables w/ SAME values\n",
    "print(x)\n",
    "print(y)\n",
    "print(z)"
   ]
  },
  {
   "cell_type": "markdown",
   "metadata": {},
   "source": [
    "**Copy variables in Python**"
   ]
  },
  {
   "cell_type": "code",
   "execution_count": 8,
   "metadata": {},
   "outputs": [
    {
     "name": "stdout",
     "output_type": "stream",
     "text": [
      "2\n",
      "2\n",
      "139719527022864\n",
      "139719527022864\n",
      "5\n",
      "139719527022864\n",
      "139719527022960\n"
     ]
    }
   ],
   "source": [
    "# define an integer a\n",
    "a = 2\n",
    "\n",
    "# define a second variable b \n",
    "b = a # in this way we copy the identity of a\n",
    "print(a)\n",
    "print(b)\n",
    "\n",
    "print(id(a))\n",
    "print(id(b))\n",
    "\n",
    "b += 3 # modify b\n",
    "print(b)\n",
    "\n",
    "# The identity of b changes, since int are immutable variables\n",
    "print(id(a))\n",
    "print(id(b))"
   ]
  },
  {
   "cell_type": "code",
   "execution_count": 17,
   "metadata": {},
   "outputs": [
    {
     "name": "stdout",
     "output_type": "stream",
     "text": [
      "First New List: [1, 66, 3, 7, 8, 9]\n",
      "ID of First New List: 139719454197376\n",
      "Second New List: [1, 66, 3, 7, 8, 9]\n",
      "ID of Second New List: 139719454197376\n"
     ]
    }
   ],
   "source": [
    "# Example with lists: ATTENTION\n",
    "old_list = [1, 2, 3, 7, 8, 'a']\n",
    "new_list = old_list\n",
    "\n",
    "old_list[1] = 66\n",
    "new_list[-1] = 9\n",
    "\n",
    "print('First New List:', old_list)\n",
    "print('ID of First New List:', id(old_list))\n",
    "\n",
    "print('Second New List:', new_list)\n",
    "print('ID of Second New List:', id(new_list))"
   ]
  },
  {
   "cell_type": "markdown",
   "metadata": {},
   "source": [
    "**Shallow Copy**"
   ]
  },
  {
   "cell_type": "code",
   "execution_count": 19,
   "metadata": {},
   "outputs": [
    {
     "name": "stdout",
     "output_type": "stream",
     "text": [
      "The original elements before shallow copying\n",
      "1 2 [3, 5] 4 \n",
      "The original elements after shallow copying\n",
      "1 2 [7, 5] 4 "
     ]
    }
   ],
   "source": [
    "# import the copy module\n",
    "import copy\n",
    "\n",
    "li1 = [1, 2, [3, 5], 4]\n",
    "li2 = copy.copy(li1)\n",
    "print (\"The original elements before shallow copying\")\n",
    "for i in range(len(li1)):\n",
    "    print (li1[i],end=\" \")\n",
    "\n",
    "print(\"\\r\")\n",
    "li2[2][0] = 7 # we make a change in the copied list\n",
    "print (\"The original elements after shallow copying\")\n",
    "for i in range(len(li1)):\n",
    "    print (li1[i],end=\" \")"
   ]
  },
  {
   "cell_type": "markdown",
   "metadata": {},
   "source": [
    "**Deep Copy**"
   ]
  },
  {
   "cell_type": "code",
   "execution_count": 20,
   "metadata": {},
   "outputs": [
    {
     "name": "stdout",
     "output_type": "stream",
     "text": [
      "The original elements before deep copying\n",
      "1 2 [3, 5] 4 \n",
      "The new list of elements after deep copying \n",
      "1 2 [7, 5] 4 \n",
      "The original elements after deep copying\n",
      "1 2 [3, 5] 4 "
     ]
    }
   ],
   "source": [
    "import copy\n",
    "li1 = [1, 2, [3, 5], 4]\n",
    "li2 = copy.deepcopy(li1)\n",
    "print (\"The original elements before deep copying\")\n",
    "for i in range(0,len(li1)):\n",
    "    print (li1[i],end=\" \")\n",
    "\n",
    "print(\"\\r\")\n",
    "li2[2][0] = 7\n",
    "print (\"The new list of elements after deep copying \")\n",
    "for i in range(0,len( li1)):\n",
    "    print (li2[i],end=\" \")\n",
    "\n",
    "print(\"\\r\")\n",
    "print (\"The original elements after deep copying\")\n",
    "for i in range(0,len( li1)):\n",
    "    print (li1[i],end=\" \")"
   ]
  },
  {
   "cell_type": "markdown",
   "metadata": {},
   "source": [
    "# Data types\n",
    "Python has the following data types built-in by default, in these categories:\n",
    "\n",
    "- Text Type:\tstr\n",
    "- Numeric Types:\tint, float, complex\n",
    "- Sequence Types:\tlist, tuple, range\n",
    "- Mapping Type:\tdict\n",
    "- Set Types:\tset, frozenset\n",
    "- Boolean Type:\tbool\n",
    "- Binary Types:\tbytes, bytearray, memoryview\n",
    "- None Type:\tNoneType"
   ]
  },
  {
   "cell_type": "code",
   "execution_count": 21,
   "metadata": {},
   "outputs": [
    {
     "name": "stdout",
     "output_type": "stream",
     "text": [
      "<class 'int'>\n",
      "<class 'str'>\n",
      "<class 'float'>\n",
      "<class 'bool'>\n",
      "<class 'list'>\n",
      "<class 'tuple'>\n",
      "<class 'dict'>\n",
      "<class 'NoneType'>\n"
     ]
    }
   ],
   "source": [
    "x = 5\n",
    "print(type(x))\n",
    "\n",
    "x = \"Hello World\"\t\n",
    "print(type(x))\n",
    "\n",
    "x = 20.5\n",
    "print(type(x))\n",
    "\n",
    "x = True\n",
    "print(type(x))\n",
    "\n",
    "x = [\"apple\", \"banana\", \"cherry\"]\n",
    "print(type(x))\n",
    "\n",
    "x = (\"apple\", \"banana\", \"cherry\")\n",
    "print(type(x))\n",
    "\n",
    "x = {\"name\" : \"John\", \"age\" : 36}\n",
    "print(type(x))\n",
    "\n",
    "x = None\t\n",
    "print(type(x))\n",
    "\n",
    "# note that in python everything is an object! Also data types are classes\n"
   ]
  },
  {
   "cell_type": "markdown",
   "metadata": {},
   "source": [
    "**Casting**: force the specific data type of your variable"
   ]
  },
  {
   "cell_type": "code",
   "execution_count": 22,
   "metadata": {},
   "outputs": [
    {
     "name": "stdout",
     "output_type": "stream",
     "text": [
      "<class 'str'>\n",
      "<class 'int'>\n",
      "<class 'float'>\n"
     ]
    }
   ],
   "source": [
    "x = str(3)    # x will be '3'\n",
    "y = int(3)    # y will be 3\n",
    "z = float(3)  # z will be 3.0\n",
    "print(type(x))\n",
    "print(type(y))\n",
    "print(type(z))"
   ]
  },
  {
   "cell_type": "markdown",
   "metadata": {},
   "source": [
    "# Strings\n",
    "Strings in python are surrounded by either single quotation marks, or double quotation marks.\n",
    "\n",
    "'hello' is the same as \"hello\"."
   ]
  },
  {
   "cell_type": "code",
   "execution_count": 23,
   "metadata": {},
   "outputs": [
    {
     "name": "stdout",
     "output_type": "stream",
     "text": [
      "Hello\n",
      "Hello\n"
     ]
    }
   ],
   "source": [
    "print(\"Hello\")\n",
    "print('Hello')"
   ]
  },
  {
   "cell_type": "markdown",
   "metadata": {},
   "source": [
    "*Strings are Arrays:*\n",
    "Like many other popular programming languages, strings in Python are arrays of bytes representing unicode characters.\n",
    "\n",
    "However, Python does not have a character data type, a single character is simply a string with a length of 1.\n",
    "\n",
    "Square brackets can be used to access elements of the string."
   ]
  },
  {
   "cell_type": "code",
   "execution_count": 24,
   "metadata": {},
   "outputs": [
    {
     "name": "stdout",
     "output_type": "stream",
     "text": [
      "e\n",
      "s\n",
      "e\n",
      "s\n",
      "a\n",
      "s\n",
      "r\n"
     ]
    }
   ],
   "source": [
    "a = \"Hello, SESASR World!\"\n",
    "print(a[1])\n",
    "\n",
    "for x in \"sesasr\":\n",
    "  print(x)"
   ]
  },
  {
   "cell_type": "code",
   "execution_count": 25,
   "metadata": {},
   "outputs": [
    {
     "name": "stdout",
     "output_type": "stream",
     "text": [
      "True\n",
      "Yes, 'tough' is present.\n",
      "No, 'weird' is not present.\n"
     ]
    }
   ],
   "source": [
    "# To check if a certain phrase or character is present in a string, we can use the keyword in.\n",
    "txt = \"SESASR is a weird name for a course!\"\n",
    "print(\"name\" in txt) # return a boolean\n",
    "\n",
    "# Print only if a word is present:\n",
    "txt = \"Robotics is tough but cool!\"\n",
    "if \"tough\" in txt:\n",
    "  print(\"Yes, 'tough' is present.\")\n",
    "\n",
    "if \"weird\" not in txt:\n",
    "  print(\"No, 'weird' is not present.\")\n"
   ]
  },
  {
   "cell_type": "markdown",
   "metadata": {},
   "source": [
    "**Slicing strings**"
   ]
  },
  {
   "cell_type": "code",
   "execution_count": 23,
   "metadata": {},
   "outputs": [
    {
     "name": "stdout",
     "output_type": "stream",
     "text": [
      "llo\n",
      "Hello\n",
      "llo, World!\n"
     ]
    }
   ],
   "source": [
    "b = \"Hello, World!\"\n",
    "print(b[2:5])\n",
    "\n",
    "# From the start\n",
    "b = \"Hello, World!\"\n",
    "print(b[:5])\n",
    "\n",
    "# To the end\n",
    "b = \"Hello, World!\"\n",
    "print(b[2:])"
   ]
  },
  {
   "cell_type": "code",
   "execution_count": 26,
   "metadata": {},
   "outputs": [
    {
     "name": "stdout",
     "output_type": "stream",
     "text": [
      "World\n"
     ]
    }
   ],
   "source": [
    "# Use negative indexes to start the slice from the end of the string\n",
    "\n",
    "b = \"Hello, World!\"\n",
    "print(b[-6:-1])"
   ]
  },
  {
   "cell_type": "markdown",
   "metadata": {},
   "source": [
    "**Strings concatenation**"
   ]
  },
  {
   "cell_type": "code",
   "execution_count": 29,
   "metadata": {},
   "outputs": [
    {
     "name": "stdout",
     "output_type": "stream",
     "text": [
      "HelloWorld\n",
      "Hello World\n",
      "HELLO WORLD\n",
      "hello world\n"
     ]
    }
   ],
   "source": [
    "a = \"Hello\"\n",
    "b = \"World\"\n",
    "c = a + b\n",
    "print(c)\n",
    "\n",
    "a = \"Hello\"\n",
    "b = \"World\"\n",
    "c = a + \" \" + b\n",
    "print(c)\n",
    "\n",
    "# Modify string\n",
    "\n",
    "print(c.upper()) # return string in upper case\n",
    "print(c.lower()) # return string in lower case\n"
   ]
  },
  {
   "cell_type": "markdown",
   "metadata": {},
   "source": [
    "**Boolean Values**"
   ]
  },
  {
   "cell_type": "code",
   "execution_count": 30,
   "metadata": {},
   "outputs": [
    {
     "name": "stdout",
     "output_type": "stream",
     "text": [
      "True\n",
      "False\n",
      "False\n",
      "b is not greater than a\n"
     ]
    }
   ],
   "source": [
    "# You can evaluate any expression in Python, and get one of two answers, True or False\n",
    "print(10 > 9)\n",
    "print(10 == 9)\n",
    "print(10 < 9)\n",
    "\n",
    "# When you run a condition in an if statement, Python returns True or False:\n",
    "a = 200\n",
    "b = 33\n",
    "\n",
    "if b > a:\n",
    "  print(\"b is greater than a\")\n",
    "else:\n",
    "  print(\"b is not greater than a\")"
   ]
  }
 ],
 "metadata": {
  "kernelspec": {
   "display_name": "Python 3",
   "language": "python",
   "name": "python3"
  },
  "language_info": {
   "codemirror_mode": {
    "name": "ipython",
    "version": 3
   },
   "file_extension": ".py",
   "mimetype": "text/x-python",
   "name": "python",
   "nbconvert_exporter": "python",
   "pygments_lexer": "ipython3",
   "version": "3.10.12"
  }
 },
 "nbformat": 4,
 "nbformat_minor": 2
}
