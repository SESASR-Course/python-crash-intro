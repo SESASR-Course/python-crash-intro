{
 "cells": [
  {
   "cell_type": "markdown",
   "metadata": {},
   "source": [
    "# Python Classes and Objects"
   ]
  },
  {
   "cell_type": "markdown",
   "metadata": {},
   "source": [
    "A **class** in Python is a user-defined template for creating objects. It bundles data and functions together, making it easier to manage and use them. When we create a new class, we define a new type of object. We can then create multiple instances of this object type."
   ]
  },
  {
   "cell_type": "markdown",
   "metadata": {},
   "source": [
    "# Example"
   ]
  },
  {
   "cell_type": "markdown",
   "metadata": {},
   "source": [
    "In Python, class has `__init__()` function which automatically initializes object attributes when an object is created. The `__init__()` method is the constructor in Python\n",
    "\n",
    "self parameter is a reference to the current instance of class. It allows us to access the attributes and methods of the object."
   ]
  },
  {
   "cell_type": "markdown",
   "metadata": {},
   "source": [
    "- Class Variables are shared by all instances of a class. They are defined inside the class but outside any methods.\n",
    "- Instance Variables are unique to each instance and are defined in __init__() method."
   ]
  },
  {
   "cell_type": "code",
   "execution_count": 16,
   "metadata": {},
   "outputs": [
    {
     "name": "stdout",
     "output_type": "stream",
     "text": [
      "Buddy Lucy\n",
      "Canine Canine\n",
      "Lucy\n",
      "Canine\n"
     ]
    }
   ],
   "source": [
    "class Dog:\n",
    "    species = \"Canine\"  # Class attribute\n",
    "\n",
    "    def __init__(self, name, age):\n",
    "        self.name = name  # Instance attribute\n",
    "        self.age = age  # Instance attribute\n",
    "\n",
    "    def __str__(self):\n",
    "        return f\"{self.name} is {self.age} years old.\"\n",
    "\n",
    "    def bark(self): \n",
    "        print(f\"{self.name} is barking!\")\n",
    "        \n",
    "# Creating an object of the Dog class\n",
    "dog1 = Dog(\"Buddy\", 3)\n",
    "dog2 = Dog(\"Lucy\", 2)\n",
    "\n",
    "print(dog1.name, dog2.name)  # Accessing instance variable\n",
    "print(dog1.species, dog2.species) # Accessing class variable"
   ]
  },
  {
   "cell_type": "markdown",
   "metadata": {},
   "source": [
    "Explanation\n",
    "- class Dog: Defines a class named Dog.\n",
    "- species: class attribute shared by all instances of class.\n",
    "- `__init__()` method: Initializes name and age attributes when a new object is created.\n",
    "- Dog(\"Buddy\", 3): Creates an object of Dog class with name as \"Buddy\" and age as 3.\n",
    "- dog1.name: Accesses instance attribute name of dog1 object.\n",
    "- dog1.species: Accesses class attribute species of dog1 object."
   ]
  },
  {
   "cell_type": "code",
   "execution_count": 12,
   "metadata": {},
   "outputs": [
    {
     "name": "stdout",
     "output_type": "stream",
     "text": [
      "Buddy is barking!\n",
      "Buddy is 3 years old.\n"
     ]
    }
   ],
   "source": [
    "# Call the bark method\n",
    "dog1.bark()\n",
    "\n",
    "print(dog1)  # This will call the __str__ method"
   ]
  },
  {
   "cell_type": "markdown",
   "metadata": {},
   "source": [
    "__str__ Implementation: Defined as a method in Dog class. Uses self parameter to access instance's attributes (name and age).\n",
    "Readable Output: When print(dog1) is called, Python automatically uses __str__ method to get a string representation of object. Without __str__, calling print(dog1) would produce something like <__main__.Dog object at 0x00000123>."
   ]
  },
  {
   "cell_type": "code",
   "execution_count": 14,
   "metadata": {},
   "outputs": [
    {
     "name": "stdout",
     "output_type": "stream",
     "text": [
      "Feline\n",
      "Buddy\n",
      "Charlie\n",
      "Max\n",
      "Feline\n",
      "Feline\n"
     ]
    }
   ],
   "source": [
    "# Create objects\n",
    "dog1 = Dog(\"Buddy\", 3)\n",
    "dog2 = Dog(\"Charlie\", 5)\n",
    "\n",
    "# Access class and instance variables\n",
    "print(dog1.species)  # (Class variable)\n",
    "print(dog1.name)     # (Instance variable)\n",
    "print(dog2.name)     # (Instance variable)\n",
    "\n",
    "# Modify instance variables\n",
    "dog1.name = \"Max\"\n",
    "print(dog1.name)     # (Updated instance variable)\n",
    "\n",
    "# Modify class variable\n",
    "Dog.species = \"Feline\"\n",
    "print(dog1.species)  # (Updated class variable)\n",
    "print(dog2.species)"
   ]
  },
  {
   "cell_type": "markdown",
   "metadata": {},
   "source": [
    "# Example: Person class"
   ]
  },
  {
   "cell_type": "code",
   "execution_count": 20,
   "metadata": {},
   "outputs": [],
   "source": [
    "class Person: # parent class\n",
    "    def __init__(self, name, age):\n",
    "        self.name = name\n",
    "        self.age = age\n",
    "\n",
    "    def __str__(self): # string representation of the object\n",
    "        return f\"I am {self.name}. I am {self.age} years old.\"\n",
    "    \n",
    "    def print_data(self): # method to print name and age\n",
    "        print(\"Name:\", self.name, \"Age:\", self.age)"
   ]
  },
  {
   "cell_type": "code",
   "execution_count": 21,
   "metadata": {},
   "outputs": [
    {
     "name": "stdout",
     "output_type": "stream",
     "text": [
      "I am Carl. I am 32 years old.\n",
      "Name: Carl Age: 32\n"
     ]
    }
   ],
   "source": [
    "Carl = Person(\"Carl\", 32) # create an instance of person class\n",
    "print(Carl) # call the special method __str__()\n",
    "\n",
    "Carl.print_data() # call the method print_data()"
   ]
  },
  {
   "cell_type": "code",
   "execution_count": 24,
   "metadata": {},
   "outputs": [],
   "source": [
    "class Professor(Person): # child class\n",
    "    def __init__(self, name, age, subject, school):\n",
    "        self.school = school\n",
    "        self.subject = subject\n",
    "        super().__init__(name, age) # super() substitute the BaseClass name. We are invoking the __init__() function of Person here, to define the attributes name and age.\n",
    "\n",
    "    def __str__(self):\n",
    "        return f\"I am Prof. {self.name}. I am {self.age} years old and I teach {self.subject} at the {self.school}.\"\n",
    "    \n",
    "    def print_data(self): # method to print name, age and subject\n",
    "        print(\"Name:\", self.name, \"Age:\", self.age, \"Subject:\", self.subject)"
   ]
  },
  {
   "cell_type": "code",
   "execution_count": 25,
   "metadata": {},
   "outputs": [
    {
     "name": "stdout",
     "output_type": "stream",
     "text": [
      "I am Prof. John Drake. I am 50 years old and I teach History at the Ohio State University.\n",
      "I am Prof. Marcel Smith. I am 54 years old and I teach Biology at the University of Michigan .\n",
      "Name: John Drake Age: 50 Subject: History\n"
     ]
    }
   ],
   "source": [
    "prof_Drake = Professor(\"John Drake\", 50, \"History\", \"Ohio State University\")\n",
    "print(prof_Drake)\n",
    "\n",
    "prof_Smith = Professor(\"Marcel Smith\", 54, \"Biology\", \"University of Michigan \")\n",
    "print(prof_Smith)\n",
    "\n",
    "prof_Drake.print_data() # Method Inherited from the Person class"
   ]
  },
  {
   "cell_type": "code",
   "execution_count": 26,
   "metadata": {},
   "outputs": [],
   "source": [
    "class Student(Person):\n",
    "    def __init__(self, name, age, degree, id, grades=None, gpa=None, school=None):\n",
    "        self.degree = degree\n",
    "        self.id = id\n",
    "        self.gpa = gpa\n",
    "        self.grades = grades\n",
    "        self.school = school\n",
    "        super().__init__(name, age)\n",
    "\n",
    "    def __str__(self):\n",
    "        if self.gpa is not None and self.school is not None:\n",
    "            return f\"I am {self.name} (id {self.id}). I am {self.age} years old and I study {self.degree} at {self.school} with a gpa of {self.gpa}.\"\n",
    "        else:\n",
    "            return f\"I am {self.name} (id {self.id}). I am {self.age} years old and I study {self.degree}.\"\n",
    "    \n",
    "    # new method, unique of the student class to compute the GPA\n",
    "    def compute_gpa(self):\n",
    "        gpa = sum(self.grades)/len(self.grades)\n",
    "        self.gpa = gpa\n",
    "        return gpa"
   ]
  },
  {
   "cell_type": "code",
   "execution_count": 29,
   "metadata": {},
   "outputs": [
    {
     "name": "stdout",
     "output_type": "stream",
     "text": [
      "I am Stefano (id s280987). I am 22 years old and I study Mechatronic Engineering at PoliTO with a gpa of 28.4.\n",
      "I am Simon (id s288332). I am 21 years old and I study Aerospace Engineering.\n",
      "I am Mary (id s270584). I am 23 years old and I study Mechatronic Engineering.\n",
      "I am Mary (id s270584). I am 23 years old and I study Mechatronic Engineering at PoliTO with a gpa of 28.6.\n",
      "27.333333333333332\n"
     ]
    }
   ],
   "source": [
    "stefano = Student(\"Stefano\", 22, \"Mechatronic Engineering\", \"s280987\", gpa=28.4, school=\"PoliTO\")\n",
    "print(stefano)\n",
    "simon = Student(\"Simon\", 21, \"Aerospace Engineering\", \"s288332\")\n",
    "print(simon)\n",
    "\n",
    "mary = Student(\"Mary\", 23, \"Mechatronic Engineering\", \"s270584\", grades=[30, 26, 28, 29, 30], school=\"PoliTO\")\n",
    "print(mary)\n",
    "gpa = mary.compute_gpa() # call the method compute_gpa()\n",
    "print(mary)\n",
    "\n",
    "mary.grades.append(21) # modify the attribute grades\n",
    "print(mary.compute_gpa()) # call again the method compute_gpa()"
   ]
  },
  {
   "cell_type": "markdown",
   "metadata": {},
   "source": [
    "# Example 2"
   ]
  },
  {
   "cell_type": "markdown",
   "metadata": {},
   "source": [
    "The super() function in Python is used to refer to the parent class. When used in conjunction with the `__init__` method, it allows the child class to invoke the constructor of its parent class. This is especially useful when you want to add functionality to the child class's constructor without completely overriding the parent class's constructor."
   ]
  },
  {
   "cell_type": "code",
   "execution_count": 2,
   "metadata": {},
   "outputs": [
    {
     "name": "stdout",
     "output_type": "stream",
     "text": [
      "My dog's name is Axel and it's a Golden Retriever\n"
     ]
    }
   ],
   "source": [
    "class Animal:\n",
    "    def __init__(self, name):\n",
    "        self.name = name\n",
    "\n",
    "class Dog(Animal):\n",
    "    def __init__(self, name, breed):\n",
    "        super().__init__(name)\n",
    "        self.breed = breed\n",
    "\n",
    "# Creating an instance of the Dog class\n",
    "my_dog = Dog(\"Axel\", \"Golden Retriever\")\n",
    "print(f\"My dog's name is {my_dog.name} and it's a {my_dog.breed}\")"
   ]
  },
  {
   "cell_type": "markdown",
   "metadata": {},
   "source": [
    "Method override"
   ]
  },
  {
   "cell_type": "code",
   "execution_count": 17,
   "metadata": {},
   "outputs": [
    {
     "name": "stdout",
     "output_type": "stream",
     "text": [
      "Woof\n"
     ]
    }
   ],
   "source": [
    "class Animal:\n",
    "    def sound(self):\n",
    "        print(\"Some sound\")\n",
    "\n",
    "class Dog(Animal):\n",
    "    def sound(self):  # Method overriding\n",
    "        print(\"Woof\")\n",
    "\n",
    "dog = Dog()\n",
    "dog.sound()"
   ]
  },
  {
   "cell_type": "markdown",
   "metadata": {},
   "source": [
    "Multiple Inheritance"
   ]
  },
  {
   "cell_type": "markdown",
   "metadata": {},
   "source": [
    "Class `C` inherits from both `A` and `B`. In the `__init__` method of class `C`, `super().__init__(a)` is used to call the constructor of class `A` with the parameter `a`, and `B.__init__(self, b)` is used to call the constructor of class `B` with the parameter `b`. An instance of class `C` named `my_instance` is created with specific attributes for each class."
   ]
  },
  {
   "cell_type": "code",
   "execution_count": 3,
   "metadata": {},
   "outputs": [
    {
     "name": "stdout",
     "output_type": "stream",
     "text": [
      "A: A_attr, B: B_attr, C: C_attr\n"
     ]
    }
   ],
   "source": [
    "class A:\n",
    "    def __init__(self, a):\n",
    "        self.a = a\n",
    "\n",
    "class B:\n",
    "    def __init__(self, b):\n",
    "        self.b = b\n",
    "\n",
    "class C(A, B):\n",
    "    def __init__(self, a, b, c):\n",
    "        super().__init__(a)\n",
    "        B.__init__(self, b)\n",
    "        self.c = c\n",
    "\n",
    "# Creating an instance of the C class\n",
    "my_instance = C('A_attr', 'B_attr', 'C_attr')\n",
    "print(f'A: {my_instance.a}, B: {my_instance.b}, C: {my_instance.c}')"
   ]
  },
  {
   "cell_type": "markdown",
   "metadata": {},
   "source": [
    "Classes B and C inherit from class A, and class D inherits from both B and C."
   ]
  },
  {
   "cell_type": "code",
   "execution_count": 4,
   "metadata": {},
   "outputs": [
    {
     "name": "stdout",
     "output_type": "stream",
     "text": [
      "Initializing class A\n",
      "Initializing class C\n",
      "Initializing class B\n"
     ]
    }
   ],
   "source": [
    "class A:\n",
    "    def __init__(self):\n",
    "        print('Initializing class A')\n",
    "\n",
    "class B(A):\n",
    "    def __init__(self):\n",
    "        super().__init__()\n",
    "        print('Initializing class B')\n",
    "\n",
    "class C(A):\n",
    "    def __init__(self):\n",
    "        super().__init__()\n",
    "        print('Initializing class C')\n",
    "\n",
    "class D(B, C):\n",
    "    def __init__(self):\n",
    "        super().__init__()\n",
    "\n",
    "# Creating an instance of the D class\n",
    "my_instance = D()"
   ]
  },
  {
   "cell_type": "markdown",
   "metadata": {},
   "source": [
    "# Example 3: Multiple Inheritance (Advanced)"
   ]
  },
  {
   "cell_type": "code",
   "execution_count": 1,
   "metadata": {},
   "outputs": [],
   "source": [
    "class Rectangle:\n",
    "    def __init__(self, length, width, **kwargs):\n",
    "        self.length = length\n",
    "        self.width = width\n",
    "        print(\"Rectangle\")\n",
    "        super().__init__(**kwargs) # this is necessary for multiple inheritance, to define the SquarePyramid class (see code below). In this case, the Triangle __init__() will be called\n",
    "        \n",
    "    def area(self):\n",
    "        return self.length * self.width\n",
    "    \n",
    "    def perimeter(self):\n",
    "        return 2 * self.length + 2 * self.width"
   ]
  },
  {
   "cell_type": "code",
   "execution_count": 2,
   "metadata": {},
   "outputs": [
    {
     "name": "stdout",
     "output_type": "stream",
     "text": [
      "Rectangle\n",
      "Rectangle area: 10\n",
      "Rectangle perimeter: 14\n"
     ]
    }
   ],
   "source": [
    "r1 = Rectangle(2, 5)\n",
    "print(\"Rectangle area:\", r1.area())\n",
    "print(\"Rectangle perimeter:\", r1.perimeter())"
   ]
  },
  {
   "cell_type": "code",
   "execution_count": 3,
   "metadata": {},
   "outputs": [],
   "source": [
    "class Square(Rectangle):\n",
    "    def __init__(self, length, **kwargs):\n",
    "        print(\"Square\")\n",
    "        super().__init__(length=length, width=length, **kwargs) # we call the parent __init__() method, hence the Rectangle's one"
   ]
  },
  {
   "cell_type": "code",
   "execution_count": 4,
   "metadata": {},
   "outputs": [
    {
     "name": "stdout",
     "output_type": "stream",
     "text": [
      "Square\n",
      "Rectangle\n",
      "Square area: 9\n",
      "Square perimeter: 12\n"
     ]
    }
   ],
   "source": [
    "s1 = Square(3)\n",
    "print(\"Square area:\", s1.area())\n",
    "print(\"Square perimeter:\", s1.perimeter())"
   ]
  },
  {
   "cell_type": "code",
   "execution_count": 5,
   "metadata": {},
   "outputs": [],
   "source": [
    "class Triangle:\n",
    "    def __init__(self, base, height, **kwargs):\n",
    "        self.base = base\n",
    "        self.height = height\n",
    "        print(\"Triangle\")\n",
    "        super().__init__(**kwargs)\n",
    "    \n",
    "    def tri_area(self):\n",
    "        return self.base * self.height * 0.5"
   ]
  },
  {
   "cell_type": "code",
   "execution_count": 8,
   "metadata": {},
   "outputs": [],
   "source": [
    "class SquarePyramid(Square, Triangle):\n",
    "    def __init__(self, base, slant_height, **kwargs):\n",
    "        self.slant_height = slant_height\n",
    "        kwargs[\"height\"] = slant_height\n",
    "        kwargs[\"base\"] = base\n",
    "        print(\"SquarePyramid\")\n",
    "        super().__init__(base, **kwargs)\n",
    "\n",
    "    def area(self):\n",
    "        base_area = super().area()\n",
    "        perimeter = super().perimeter()\n",
    "        return 0.5 * perimeter * self.slant_height + base_area\n",
    "    \n",
    "    def area_2(self):\n",
    "        base_area = super().area()\n",
    "        triangle_area = super().tri_area()\n",
    "        return triangle_area * 4 + base_area"
   ]
  },
  {
   "cell_type": "code",
   "execution_count": 9,
   "metadata": {},
   "outputs": [
    {
     "name": "stdout",
     "output_type": "stream",
     "text": [
      "SquarePyramid\n",
      "Square\n",
      "Rectangle\n",
      "Triangle\n",
      "39.0\n",
      "39.0\n"
     ]
    }
   ],
   "source": [
    "SP = SquarePyramid(3, 5) # Instanciating the object SP we can see from the print the order of class inherited \n",
    "print(SP.area()) # call the method area()\n",
    "print(SP.area_2()) # call the method area_2()"
   ]
  },
  {
   "cell_type": "code",
   "execution_count": null,
   "metadata": {},
   "outputs": [],
   "source": []
  }
 ],
 "metadata": {
  "kernelspec": {
   "display_name": "Python 3",
   "language": "python",
   "name": "python3"
  },
  "language_info": {
   "codemirror_mode": {
    "name": "ipython",
    "version": 3
   },
   "file_extension": ".py",
   "mimetype": "text/x-python",
   "name": "python",
   "nbconvert_exporter": "python",
   "pygments_lexer": "ipython3",
   "version": "3.10.12"
  }
 },
 "nbformat": 4,
 "nbformat_minor": 2
}
