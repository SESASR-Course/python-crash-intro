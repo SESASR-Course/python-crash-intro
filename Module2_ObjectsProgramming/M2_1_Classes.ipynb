{
 "cells": [
  {
   "cell_type": "markdown",
   "metadata": {},
   "source": [
    "# Python Classes and Objects"
   ]
  },
  {
   "cell_type": "markdown",
   "metadata": {},
   "source": [
    "# Example"
   ]
  },
  {
   "cell_type": "code",
   "execution_count": 20,
   "metadata": {},
   "outputs": [],
   "source": [
    "class Person: # parent class\n",
    "    def __init__(self, name, age):\n",
    "        self.name = name\n",
    "        self.age = age\n",
    "\n",
    "    def __str__(self):\n",
    "        return f\"I am {self.name}. I am {self.age} years old.\"\n",
    "    \n",
    "    def print_data(self):\n",
    "        print(\"Name:\", self.name, \"Age:\", self.age)"
   ]
  },
  {
   "cell_type": "code",
   "execution_count": 21,
   "metadata": {},
   "outputs": [
    {
     "name": "stdout",
     "output_type": "stream",
     "text": [
      "I am Carl. I am 32 years old.\n",
      "Name: Carl Age: 32\n"
     ]
    }
   ],
   "source": [
    "Carl = Person(\"Carl\", 32) # create an instance of person class\n",
    "print(Carl) # call the special method __str__()\n",
    "\n",
    "Carl.print_data() # call the method print_data()"
   ]
  },
  {
   "cell_type": "code",
   "execution_count": 24,
   "metadata": {},
   "outputs": [],
   "source": [
    "class Professor(Person): # child class\n",
    "    def __init__(self, name, age, subject, school):\n",
    "        self.school = school\n",
    "        self.subject = subject\n",
    "        super().__init__(name, age) # super() substitute the BaseClass name. We are invoking the __init__() function of Person here, to define the attributes name and age.\n",
    "\n",
    "    def __str__(self):\n",
    "        return f\"I am Prof. {self.name}. I am {self.age} years old and I teach {self.subject} at the {self.school}.\"\n",
    "    \n",
    "    def print_data(self):\n",
    "        print(\"Name:\", self.name, \"Age:\", self.age, \"Subject:\", self.subject)"
   ]
  },
  {
   "cell_type": "code",
   "execution_count": 25,
   "metadata": {},
   "outputs": [
    {
     "name": "stdout",
     "output_type": "stream",
     "text": [
      "I am Prof. John Drake. I am 50 years old and I teach History at the Ohio State University.\n",
      "I am Prof. Marcel Smith. I am 54 years old and I teach Biology at the University of Michigan .\n",
      "Name: John Drake Age: 50 Subject: History\n"
     ]
    }
   ],
   "source": [
    "prof_Drake = Professor(\"John Drake\", 50, \"History\", \"Ohio State University\")\n",
    "print(prof_Drake)\n",
    "\n",
    "prof_Smith = Professor(\"Marcel Smith\", 54, \"Biology\", \"University of Michigan \")\n",
    "print(prof_Smith)\n",
    "\n",
    "prof_Drake.print_data() # Method Inherited from the Person class"
   ]
  },
  {
   "cell_type": "code",
   "execution_count": 26,
   "metadata": {},
   "outputs": [],
   "source": [
    "class Student(Person):\n",
    "    def __init__(self, name, age, degree, id, grades=None, gpa=None, school=None):\n",
    "        self.degree = degree\n",
    "        self.id = id\n",
    "        self.gpa = gpa\n",
    "        self.grades = grades\n",
    "        self.school = school\n",
    "        super().__init__(name, age)\n",
    "\n",
    "    def __str__(self):\n",
    "        if self.gpa is not None and self.school is not None:\n",
    "            return f\"I am {self.name} (id {self.id}). I am {self.age} years old and I study {self.degree} at {self.school} with a gpa of {self.gpa}.\"\n",
    "        else:\n",
    "            return f\"I am {self.name} (id {self.id}). I am {self.age} years old and I study {self.degree}.\"\n",
    "    \n",
    "    # new method, unique of the student class\n",
    "    def compute_gpa(self):\n",
    "        gpa = sum(self.grades)/len(self.grades)\n",
    "        self.gpa = gpa\n",
    "        return gpa"
   ]
  },
  {
   "cell_type": "code",
   "execution_count": 29,
   "metadata": {},
   "outputs": [
    {
     "name": "stdout",
     "output_type": "stream",
     "text": [
      "I am Stefano (id s280987). I am 22 years old and I study Mechatronic Engineering at PoliTO with a gpa of 28.4.\n",
      "I am Simon (id s288332). I am 21 years old and I study Aerospace Engineering.\n",
      "I am Mary (id s270584). I am 23 years old and I study Mechatronic Engineering.\n",
      "I am Mary (id s270584). I am 23 years old and I study Mechatronic Engineering at PoliTO with a gpa of 28.6.\n",
      "27.333333333333332\n"
     ]
    }
   ],
   "source": [
    "stefano = Student(\"Stefano\", 22, \"Mechatronic Engineering\", \"s280987\", gpa=28.4, school=\"PoliTO\")\n",
    "print(stefano)\n",
    "simon = Student(\"Simon\", 21, \"Aerospace Engineering\", \"s288332\")\n",
    "print(simon)\n",
    "\n",
    "mary = Student(\"Mary\", 23, \"Mechatronic Engineering\", \"s270584\", grades=[30, 26, 28, 29, 30], school=\"PoliTO\")\n",
    "print(mary)\n",
    "gpa = mary.compute_gpa() # call the method compute_gpa()\n",
    "print(mary)\n",
    "\n",
    "mary.grades.append(21) # modify the attribute grades\n",
    "print(mary.compute_gpa()) # call again the method compute_gpa()"
   ]
  },
  {
   "cell_type": "markdown",
   "metadata": {},
   "source": [
    "# Example 2: Multiple Inheritance (Optional Advanced)"
   ]
  },
  {
   "cell_type": "code",
   "execution_count": 42,
   "metadata": {},
   "outputs": [],
   "source": [
    "class Rectangle:\n",
    "    def __init__(self, length, width, **kwargs):\n",
    "        self.length = length\n",
    "        self.width = width\n",
    "        print(\"Rectangle\")\n",
    "        super().__init__(**kwargs) # this is necessary for multiple inheritance, to define the SquarePyramid class (see code below). In this case, the Triangle __init__() will be called\n",
    "        \n",
    "    def area(self):\n",
    "        return self.length * self.width\n",
    "    \n",
    "    def perimeter(self):\n",
    "        return 2 * self.length + 2 * self.width"
   ]
  },
  {
   "cell_type": "code",
   "execution_count": 37,
   "metadata": {},
   "outputs": [
    {
     "name": "stdout",
     "output_type": "stream",
     "text": [
      "Rectangle\n",
      "Rectangle area: 10\n",
      "Rectangle perimeter: 14\n"
     ]
    }
   ],
   "source": [
    "r1 = Rectangle(2, 5)\n",
    "print(\"Rectangle area:\", r1.area())\n",
    "print(\"Rectangle perimeter:\", r1.perimeter())"
   ]
  },
  {
   "cell_type": "code",
   "execution_count": 33,
   "metadata": {},
   "outputs": [],
   "source": [
    "class Square(Rectangle):\n",
    "    def __init__(self, length, **kwargs):\n",
    "        print(\"Square\")\n",
    "        super().__init__(length=length, width=length, **kwargs) # we call the parent __init__() method, hence the Rectangle's one"
   ]
  },
  {
   "cell_type": "code",
   "execution_count": 34,
   "metadata": {},
   "outputs": [
    {
     "name": "stdout",
     "output_type": "stream",
     "text": [
      "Square\n",
      "Rectangle\n",
      "Square area: 9\n",
      "Square perimeter: 12\n"
     ]
    }
   ],
   "source": [
    "s1 = Square(3)\n",
    "print(\"Square area:\", s1.area())\n",
    "print(\"Square perimeter:\", s1.perimeter())"
   ]
  },
  {
   "cell_type": "code",
   "execution_count": 39,
   "metadata": {},
   "outputs": [],
   "source": [
    "class Triangle:\n",
    "    def __init__(self, base, height, **kwargs):\n",
    "        self.base = base\n",
    "        self.height = height\n",
    "        print(\"Triangle\")\n",
    "        super().__init__(**kwargs)\n",
    "    \n",
    "    def tri_area(self):\n",
    "        return self.base * self.height * 0.5"
   ]
  },
  {
   "cell_type": "code",
   "execution_count": 45,
   "metadata": {},
   "outputs": [],
   "source": [
    "class SquarePyramid(Square, Triangle):\n",
    "    def __init__(self, base, slant_height, **kwargs):\n",
    "        self.slant_height = slant_height\n",
    "        kwargs[\"height\"] = slant_height\n",
    "        kwargs[\"length\"] = base\n",
    "        print(\"SquarePyramid\")\n",
    "        super().__init__(base=base, **kwargs)\n",
    "\n",
    "    def area(self):\n",
    "        base_area = super().area()\n",
    "        perimeter = super().perimeter()\n",
    "        return 0.5 * perimeter * self.slant_height + base_area\n",
    "    \n",
    "    def area_2(self):\n",
    "        base_area = super().area()\n",
    "        triangle_area = super().tri_area()\n",
    "        return triangle_area * 4 + base_area"
   ]
  },
  {
   "cell_type": "code",
   "execution_count": 47,
   "metadata": {},
   "outputs": [
    {
     "name": "stdout",
     "output_type": "stream",
     "text": [
      "SquarePyramid\n",
      "Square\n",
      "Rectangle\n",
      "Triangle\n",
      "39.0\n",
      "39.0\n"
     ]
    }
   ],
   "source": [
    "SP = SquarePyramid(3, 5) # Instanciating the object SP we can see from the print the order of class inherited \n",
    "print(SP.area()) # call the method area()\n",
    "print(SP.area_2()) # call the method area_2()"
   ]
  }
 ],
 "metadata": {
  "kernelspec": {
   "display_name": "Python 3",
   "language": "python",
   "name": "python3"
  },
  "language_info": {
   "codemirror_mode": {
    "name": "ipython",
    "version": 3
   },
   "file_extension": ".py",
   "mimetype": "text/x-python",
   "name": "python",
   "nbconvert_exporter": "python",
   "pygments_lexer": "ipython3",
   "version": "3.10.12"
  }
 },
 "nbformat": 4,
 "nbformat_minor": 2
}
