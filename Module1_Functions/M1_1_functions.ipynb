{
 "cells": [
  {
   "cell_type": "markdown",
   "metadata": {},
   "source": [
    "# Python Functions"
   ]
  },
  {
   "cell_type": "markdown",
   "metadata": {},
   "source": [
    "A function is a block of code which only runs when it is called.\n",
    "\n",
    "You can pass data, known as parameters, into a function.\n",
    "\n",
    "A function can return data as a result.\n",
    "\n"
   ]
  },
  {
   "cell_type": "code",
   "execution_count": 16,
   "metadata": {},
   "outputs": [],
   "source": [
    "def my_function():\n",
    "  print(\"Hello from a function\")"
   ]
  },
  {
   "cell_type": "code",
   "execution_count": 17,
   "metadata": {},
   "outputs": [
    {
     "name": "stdout",
     "output_type": "stream",
     "text": [
      "Hello from a function\n"
     ]
    }
   ],
   "source": [
    "my_function()"
   ]
  },
  {
   "cell_type": "markdown",
   "metadata": {},
   "source": [
    "Create a function to print all the squared numbers."
   ]
  },
  {
   "cell_type": "code",
   "execution_count": 18,
   "metadata": {},
   "outputs": [],
   "source": [
    "def squares(x): # in this case x is a int \n",
    "    return x**2"
   ]
  },
  {
   "cell_type": "code",
   "execution_count": 19,
   "metadata": {},
   "outputs": [
    {
     "name": "stdout",
     "output_type": "stream",
     "text": [
      "1\n",
      "4\n",
      "9\n",
      "16\n",
      "25\n"
     ]
    }
   ],
   "source": [
    "numb = range(1,6)\n",
    "\n",
    "for x in numb:\n",
    "    y = squares(x) # call the function\n",
    "    print(y)"
   ]
  },
  {
   "cell_type": "markdown",
   "metadata": {},
   "source": [
    "Passing a list as an argument"
   ]
  },
  {
   "cell_type": "code",
   "execution_count": 20,
   "metadata": {},
   "outputs": [],
   "source": [
    "def square_func(x): # in this case x is intended to be a list\n",
    "    squares_list = []\n",
    "    for n in x:\n",
    "        squares_list.append(n**2)\n",
    "    return squares_list"
   ]
  },
  {
   "cell_type": "code",
   "execution_count": 21,
   "metadata": {},
   "outputs": [
    {
     "name": "stdout",
     "output_type": "stream",
     "text": [
      "[1, 4, 9, 16, 25]\n"
     ]
    }
   ],
   "source": [
    "numb = range(1,6)\n",
    "\n",
    "computed_squares = square_func(numb)\n",
    "print(computed_squares)"
   ]
  },
  {
   "cell_type": "markdown",
   "metadata": {},
   "source": [
    "**Multiple and Default Arguments**"
   ]
  },
  {
   "cell_type": "code",
   "execution_count": 25,
   "metadata": {},
   "outputs": [],
   "source": [
    "def square_func(x, max_value=15): # we have two expected arguments, we can also set a default expected value\n",
    "    squares_list = []\n",
    "\n",
    "    for n in x:\n",
    "        y = n**2\n",
    "        if y > max_value:\n",
    "            break\n",
    "        squares_list.append(y)\n",
    "\n",
    "    return squares_list, len(squares_list)"
   ]
  },
  {
   "cell_type": "markdown",
   "metadata": {},
   "source": [
    "**Keyword Arguments**\n",
    "\n",
    "You can also send arguments with the key = value syntax.\n",
    "\n",
    "This way the order of the arguments does not matter."
   ]
  },
  {
   "cell_type": "code",
   "execution_count": 26,
   "metadata": {},
   "outputs": [
    {
     "name": "stdout",
     "output_type": "stream",
     "text": [
      "Squared numbers: [1, 4, 9] len: 5\n",
      "Squared numbers: [1, 4, 9, 16, 25] len: 5\n"
     ]
    }
   ],
   "source": [
    "computed_squares, _ = square_func(x=range(1,10)) # use keyward arguments\n",
    "print(\"Squared numbers:\", computed_squares, \"len:\", squares_len)\n",
    "\n",
    "computed_squares, squares_len = square_func(max_value=27, x=range(1,10)) # order does not matter in this case\n",
    "print(\"Squared numbers:\", computed_squares, \"len:\", squares_len)"
   ]
  },
  {
   "cell_type": "code",
   "execution_count": 9,
   "metadata": {},
   "outputs": [
    {
     "name": "stdout",
     "output_type": "stream",
     "text": [
      "Squared numbers: [1, 4, 9, 16, 25] len: 5\n",
      "Squared numbers: [1, 4, 9]\n"
     ]
    }
   ],
   "source": [
    "numb = range(1,15)\n",
    "\n",
    "computed_squares, squares_len = square_func(numb, max_value=27) # mixing argument passing (IN THIS CASE: KEYWARDS ARGUMENTS AT THE END)\n",
    "print(\"Squared numbers:\", computed_squares, \"len:\", squares_len)\n",
    "\n",
    "# if I don't need the second output:\n",
    "computed_squares, _ = square_func(numb) # without passing max_value as an argument, we will use the default value for max_value \n",
    "print(\"Squared numbers:\", computed_squares)"
   ]
  },
  {
   "cell_type": "markdown",
   "metadata": {},
   "source": [
    "**Arbitrary Keyword Arguments**\n",
    "\n",
    "If you do not know how many keyword arguments that will be passed into your function, add two asterisk: ** before the parameter name in the function definition. It is common to use the expression kwargs (abbreviation for keyword arguments)\n",
    "\n",
    "This way the function will receive a dictionary of arguments, and can access the items accordingly:"
   ]
  },
  {
   "cell_type": "code",
   "execution_count": 27,
   "metadata": {},
   "outputs": [],
   "source": [
    "def square_func(x, **kwargs): # we have two expected arguments, we can also set a default expected value\n",
    "    max_value = kwargs[\"max_value\"]\n",
    "    min_value = kwargs[\"min_value\"]\n",
    "    squares_list = []\n",
    "\n",
    "    for n in x:\n",
    "        y = n**2\n",
    "        if y > max_value:\n",
    "            break\n",
    "        elif y > min_value:\n",
    "            squares_list.append(y)\n",
    "\n",
    "    return squares_list, len(squares_list)"
   ]
  },
  {
   "cell_type": "code",
   "execution_count": 28,
   "metadata": {},
   "outputs": [
    {
     "name": "stdout",
     "output_type": "stream",
     "text": [
      "Squared numbers: [4, 9, 16, 25] len: 4\n"
     ]
    }
   ],
   "source": [
    "numb = range(1,15)\n",
    "\n",
    "computed_squares, squares_len = square_func(numb, max_value=27, min_value=3)\n",
    "print(\"Squared numbers:\", computed_squares, \"len:\", squares_len)"
   ]
  },
  {
   "cell_type": "markdown",
   "metadata": {},
   "source": [
    "**Typing**"
   ]
  },
  {
   "cell_type": "markdown",
   "metadata": {},
   "source": [
    "Typing is the practice of checking if arguments passed to the function respect the expected type. For an easier reading of the code, we can suggest argument type (no error will be given in this case if not respected)."
   ]
  },
  {
   "cell_type": "code",
   "execution_count": 29,
   "metadata": {},
   "outputs": [],
   "source": [
    "def show_player(name: str, score: int): \n",
    "    print(\"name:\", name, \"score:\", score)"
   ]
  },
  {
   "cell_type": "code",
   "execution_count": 30,
   "metadata": {},
   "outputs": [
    {
     "name": "stdout",
     "output_type": "stream",
     "text": [
      "name: Marc score: 1100\n",
      "name: Luke score: 1100.44\n"
     ]
    }
   ],
   "source": [
    "show_player(\"Marc\", 1100)\n",
    "show_player(\"Luke\", 1100.44)"
   ]
  },
  {
   "cell_type": "markdown",
   "metadata": {},
   "source": [
    "Differently, we can perform an hard check to raise error in case of wrong argument type using the function isistance()"
   ]
  },
  {
   "cell_type": "code",
   "execution_count": 31,
   "metadata": {},
   "outputs": [],
   "source": [
    "def show_player(name: str, score: int): # we can suggest argument type (no error will be given)\n",
    "    if not isinstance(name, str):\n",
    "        raise TypeError(\"Only strings are allowed\")\n",
    "    if not isinstance(score, int):\n",
    "        raise TypeError(\"Only integers are allowed\")\n",
    "    print(\"name:\", name, \"score:\", score)"
   ]
  },
  {
   "cell_type": "code",
   "execution_count": 33,
   "metadata": {},
   "outputs": [
    {
     "ename": "TypeError",
     "evalue": "Only strings are allowed",
     "output_type": "error",
     "traceback": [
      "\u001b[0;31m---------------------------------------------------------------------------\u001b[0m",
      "\u001b[0;31mTypeError\u001b[0m                                 Traceback (most recent call last)",
      "Cell \u001b[0;32mIn[33], line 1\u001b[0m\n\u001b[0;32m----> 1\u001b[0m \u001b[43mshow_player\u001b[49m\u001b[43m(\u001b[49m\u001b[38;5;241;43m45\u001b[39;49m\u001b[43m,\u001b[49m\u001b[43m \u001b[49m\u001b[38;5;241;43m1100.44\u001b[39;49m\u001b[43m)\u001b[49m\n",
      "Cell \u001b[0;32mIn[31], line 3\u001b[0m, in \u001b[0;36mshow_player\u001b[0;34m(name, score)\u001b[0m\n\u001b[1;32m      1\u001b[0m \u001b[38;5;28;01mdef\u001b[39;00m \u001b[38;5;21mshow_player\u001b[39m(name: \u001b[38;5;28mstr\u001b[39m, score: \u001b[38;5;28mint\u001b[39m): \u001b[38;5;66;03m# we can suggest argument type (no error will be given)\u001b[39;00m\n\u001b[1;32m      2\u001b[0m     \u001b[38;5;28;01mif\u001b[39;00m \u001b[38;5;129;01mnot\u001b[39;00m \u001b[38;5;28misinstance\u001b[39m(name, \u001b[38;5;28mstr\u001b[39m):\n\u001b[0;32m----> 3\u001b[0m         \u001b[38;5;28;01mraise\u001b[39;00m \u001b[38;5;167;01mTypeError\u001b[39;00m(\u001b[38;5;124m\"\u001b[39m\u001b[38;5;124mOnly strings are allowed\u001b[39m\u001b[38;5;124m\"\u001b[39m)\n\u001b[1;32m      4\u001b[0m     \u001b[38;5;28;01mif\u001b[39;00m \u001b[38;5;129;01mnot\u001b[39;00m \u001b[38;5;28misinstance\u001b[39m(score, \u001b[38;5;28mint\u001b[39m):\n\u001b[1;32m      5\u001b[0m         \u001b[38;5;28;01mraise\u001b[39;00m \u001b[38;5;167;01mTypeError\u001b[39;00m(\u001b[38;5;124m\"\u001b[39m\u001b[38;5;124mOnly integers are allowed\u001b[39m\u001b[38;5;124m\"\u001b[39m)\n",
      "\u001b[0;31mTypeError\u001b[0m: Only strings are allowed"
     ]
    }
   ],
   "source": [
    "show_player(45, 1100.44)"
   ]
  },
  {
   "cell_type": "markdown",
   "metadata": {},
   "source": [
    "**Arbitrary arguments**\n",
    "\n",
    "If you do not know how many arguments that will be passed into your function, add a * before the parameter name in the function definition.\n",
    "\n"
   ]
  },
  {
   "cell_type": "code",
   "execution_count": 35,
   "metadata": {},
   "outputs": [
    {
     "name": "stdout",
     "output_type": "stream",
     "text": [
      "The youngest child is Linus\n"
     ]
    }
   ],
   "source": [
    "def my_function(*kids):\n",
    "  print(\"The youngest child is \" + kids[2])\n",
    "\n",
    "my_function(\"Emil\", \"Tobias\", \"Linus\")"
   ]
  },
  {
   "cell_type": "markdown",
   "metadata": {},
   "source": [
    "# Exercise 1"
   ]
  },
  {
   "cell_type": "markdown",
   "metadata": {},
   "source": [
    "Find the largest item from a random list"
   ]
  },
  {
   "cell_type": "code",
   "execution_count": 37,
   "metadata": {},
   "outputs": [],
   "source": [
    "def max_search(x:list):\n",
    "    assert isinstance(x, list) # check that x is a list variable\n",
    "    # initialize the maximum as the first element of the list\n",
    "    max=x[0] \n",
    "    index = 0\n",
    "\n",
    "    for i in range(1, len(x)):\n",
    "        if x[i] > max:\n",
    "            max = x[i]\n",
    "            index = i\n",
    "\n",
    "    return max, index"
   ]
  },
  {
   "cell_type": "code",
   "execution_count": 38,
   "metadata": {},
   "outputs": [
    {
     "name": "stdout",
     "output_type": "stream",
     "text": [
      "Random number list is : [43, 36, 15, 48, 20, 2, 41, 10]\n",
      "Max: 48 Position of the max: 4\n"
     ]
    }
   ],
   "source": [
    "# import the python module to generate random samples\n",
    "import random\n",
    " \n",
    "# using random.sample()\n",
    "# to generate random number list\n",
    "x = random.sample(range(1, 50), 8)\n",
    " \n",
    "# printing result\n",
    "print (\"Random number list is : \" +  str(x))\n",
    "\n",
    "# call our function to search the largest number\n",
    "max_val, index_max = max_search(x)\n",
    "print(\"Max:\", max_val, \"Position of the max:\", index_max+1)"
   ]
  },
  {
   "cell_type": "code",
   "execution_count": null,
   "metadata": {},
   "outputs": [
    {
     "name": "stdout",
     "output_type": "stream",
     "text": [
      "Random number list is : [44, 7, 9, 5, 31, 1, 14, 27, 25, 44]\n",
      "Max: 44 Position of the max: 1\n"
     ]
    }
   ],
   "source": [
    "# to generate random number list\n",
    "import random\n",
    " \n",
    "# using list comprehension + randrange() \n",
    "# randrange generate a random number according to random.randrange(start, stop, step)\n",
    "# to generate random number list\n",
    "x = [random.randrange(1, 50, 1) for i in range(10)]\n",
    " \n",
    "# printing result\n",
    "print (\"Random number list is : \" +  str(x))\n",
    "\n",
    "# call our function to search the largest number\n",
    "max_val, index_max = max_search(x)\n",
    "print(\"Max:\", max_val, \"Position of the max:\", index_max+1)"
   ]
  },
  {
   "cell_type": "markdown",
   "metadata": {},
   "source": [
    "# Exercise 2"
   ]
  },
  {
   "cell_type": "markdown",
   "metadata": {},
   "source": [
    "Write a program to create a new string made of the middle three characters of an input string."
   ]
  },
  {
   "cell_type": "code",
   "execution_count": 39,
   "metadata": {},
   "outputs": [],
   "source": [
    "def get_middle_three_chars(str1):\n",
    "    print(\"Original String is\", str1)\n",
    "\n",
    "    # first get middle index number\n",
    "    mi = int(len(str1) / 2)\n",
    "\n",
    "    # use string slicing to get result characters\n",
    "    res = str1[mi - 1:mi + 2]\n",
    "    return res\n"
   ]
  },
  {
   "cell_type": "code",
   "execution_count": 40,
   "metadata": {},
   "outputs": [
    {
     "name": "stdout",
     "output_type": "stream",
     "text": [
      "Original String is QuiQuoQua\n",
      "Middle three chars are: Quo\n",
      "Original String is ChatGPTfake\n",
      "Middle three chars are: GPT\n"
     ]
    }
   ],
   "source": [
    "res = get_middle_three_chars(\"QuiQuoQua\")\n",
    "print(\"Middle three chars are:\", res)\n",
    "\n",
    "res = get_middle_three_chars(\"ChatGPTfake\")\n",
    "print(\"Middle three chars are:\", res)\n"
   ]
  },
  {
   "cell_type": "markdown",
   "metadata": {},
   "source": [
    "# Exercise 3"
   ]
  },
  {
   "cell_type": "markdown",
   "metadata": {},
   "source": [
    "Write a program to add two lists index-wise. Create a new list that contains the 0th index item from both the list, then the 1st index item, and so on till the last element."
   ]
  },
  {
   "cell_type": "code",
   "execution_count": 41,
   "metadata": {},
   "outputs": [],
   "source": [
    "list1 = [\"M\", \"na\", \"i\", \"Ma\"]\n",
    "list2 = [\"y\", \"me\", \"s\", \"uro\"]"
   ]
  },
  {
   "cell_type": "code",
   "execution_count": 42,
   "metadata": {},
   "outputs": [],
   "source": [
    "def concat_lists_ew(l1, l2):\n",
    "    l3 = [i + j for i, j in zip(l1, l2)] # list comprehension + zip() \n",
    "    return l3"
   ]
  },
  {
   "cell_type": "code",
   "execution_count": 43,
   "metadata": {},
   "outputs": [
    {
     "name": "stdout",
     "output_type": "stream",
     "text": [
      "['My', 'name', 'is', 'Mauro']\n"
     ]
    }
   ],
   "source": [
    "l3 = concat_lists_ew(list1, list2)\n",
    "print(l3)"
   ]
  },
  {
   "cell_type": "markdown",
   "metadata": {},
   "source": [
    "# Variable scope"
   ]
  },
  {
   "cell_type": "markdown",
   "metadata": {},
   "source": [
    "A variable created inside a function belongs to the local scope of that function, and can only be used inside that function."
   ]
  },
  {
   "cell_type": "code",
   "execution_count": 45,
   "metadata": {},
   "outputs": [
    {
     "name": "stdout",
     "output_type": "stream",
     "text": [
      "300\n"
     ]
    }
   ],
   "source": [
    "def myfunc():\n",
    "  x = 300\n",
    "  print(x)\n",
    "\n",
    "myfunc()"
   ]
  },
  {
   "cell_type": "code",
   "execution_count": 47,
   "metadata": {},
   "outputs": [
    {
     "ename": "NameError",
     "evalue": "name 'x' is not defined",
     "output_type": "error",
     "traceback": [
      "\u001b[0;31m---------------------------------------------------------------------------\u001b[0m",
      "\u001b[0;31mNameError\u001b[0m                                 Traceback (most recent call last)",
      "Cell \u001b[0;32mIn[47], line 2\u001b[0m\n\u001b[1;32m      1\u001b[0m \u001b[38;5;28;01mdel\u001b[39;00m x\n\u001b[0;32m----> 2\u001b[0m \u001b[38;5;28mprint\u001b[39m(\u001b[43mx\u001b[49m)\n",
      "\u001b[0;31mNameError\u001b[0m: name 'x' is not defined"
     ]
    }
   ],
   "source": [
    "del x\n",
    "print(x)"
   ]
  },
  {
   "cell_type": "markdown",
   "metadata": {},
   "source": [
    "A variable created in the main body of the Python code is a global variable and belongs to the global scope.\n",
    "\n",
    "Global variables are available from within any scope, global and local. Note that this is a peculiar condition, you usually execute your program as the main() of your python module, which is another function! Classes are a better programming solution for that."
   ]
  },
  {
   "cell_type": "code",
   "execution_count": 48,
   "metadata": {},
   "outputs": [
    {
     "name": "stdout",
     "output_type": "stream",
     "text": [
      "300\n",
      "300\n"
     ]
    }
   ],
   "source": [
    "x = 300\n",
    "\n",
    "def myfunc():\n",
    "  print(x)\n",
    "\n",
    "myfunc()\n",
    "\n",
    "print(x)"
   ]
  },
  {
   "cell_type": "markdown",
   "metadata": {},
   "source": [
    "If you operate with the same variable name inside and outside of a function, Python will treat them as two separate variables, one available in the global scope (outside the function) and one available in the local scope (inside the function):"
   ]
  },
  {
   "cell_type": "code",
   "execution_count": 49,
   "metadata": {},
   "outputs": [
    {
     "name": "stdout",
     "output_type": "stream",
     "text": [
      "100\n",
      "300\n"
     ]
    }
   ],
   "source": [
    "x = 300\n",
    "\n",
    "def myfunc():\n",
    "  x = 100\n",
    "  print(x)\n",
    "\n",
    "myfunc()\n",
    "\n",
    "print(x)"
   ]
  },
  {
   "cell_type": "markdown",
   "metadata": {},
   "source": [
    "If you need to create a global variable, but in the local scope, you can use the global keyword.\n",
    "\n",
    "The global keyword makes the variable global. (USE IT ONLY WHEN REALLY NEEDED)"
   ]
  },
  {
   "cell_type": "code",
   "execution_count": 50,
   "metadata": {},
   "outputs": [
    {
     "name": "stdout",
     "output_type": "stream",
     "text": [
      "300\n"
     ]
    }
   ],
   "source": [
    "def myfunc():\n",
    "  global x\n",
    "  x = 300\n",
    "\n",
    "myfunc()\n",
    "\n",
    "print(x)\n",
    "x = 200"
   ]
  },
  {
   "cell_type": "markdown",
   "metadata": {},
   "source": [
    "Also, use the global keyword if you want to make a change to a global variable inside a function."
   ]
  },
  {
   "cell_type": "code",
   "execution_count": null,
   "metadata": {},
   "outputs": [
    {
     "name": "stdout",
     "output_type": "stream",
     "text": [
      "200\n"
     ]
    }
   ],
   "source": [
    "x = 300\n",
    "\n",
    "def myfunc():\n",
    "  global x\n",
    "  x = 200\n",
    "\n",
    "myfunc()\n",
    "\n",
    "print(x)"
   ]
  }
 ],
 "metadata": {
  "kernelspec": {
   "display_name": "Python 3",
   "language": "python",
   "name": "python3"
  },
  "language_info": {
   "codemirror_mode": {
    "name": "ipython",
    "version": 3
   },
   "file_extension": ".py",
   "mimetype": "text/x-python",
   "name": "python",
   "nbconvert_exporter": "python",
   "pygments_lexer": "ipython3",
   "version": "3.10.12"
  }
 },
 "nbformat": 4,
 "nbformat_minor": 2
}
